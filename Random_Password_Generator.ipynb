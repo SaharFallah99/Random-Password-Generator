{
  "nbformat": 4,
  "nbformat_minor": 0,
  "metadata": {
    "colab": {
      "provenance": [],
      "authorship_tag": "ABX9TyO1p9/qxihG1gFTJLzrSve+",
      "include_colab_link": true
    },
    "kernelspec": {
      "name": "python3",
      "display_name": "Python 3"
    },
    "language_info": {
      "name": "python"
    }
  },
  "cells": [
    {
      "cell_type": "markdown",
      "metadata": {
        "id": "view-in-github",
        "colab_type": "text"
      },
      "source": [
        "<a href=\"https://colab.research.google.com/github/SaharFallah99/Random-Password-Generator/blob/main/Random_Password_Generator.ipynb\" target=\"_parent\"><img src=\"https://colab.research.google.com/assets/colab-badge.svg\" alt=\"Open In Colab\"/></a>"
      ]
    },
    {
      "cell_type": "code",
      "execution_count": 77,
      "metadata": {
        "id": "xfT1T6imQ1nH"
      },
      "outputs": [],
      "source": [
        "import random\n",
        "import string"
      ]
    },
    {
      "cell_type": "code",
      "source": [
        "nums=[]\n",
        "letters_upper=[]\n",
        "letters_lower=[]\n",
        "puncs=[]\n",
        "for i in range(2):\n",
        "  num=random.randint(0,9)\n",
        "  rand = random.choice(string.ascii_letters).upper()\n",
        "  rand2 = random.choice(string.ascii_letters).lower()\n",
        "  punc=random.choice(string.punctuation)\n",
        "  nums.append(num)\n",
        "  letters_upper.append(rand)\n",
        "  letters_lower.append(rand2)\n",
        "  puncs.append(punc)\n",
        "\n",
        "\n",
        "conect=letters_upper+nums+letters_lower+puncs\n",
        "password=''.join( str(i) for i in conect)\n",
        "password_shuffled = ''.join(random.sample(password, len(password)))\n",
        "print(password_shuffled)"
      ],
      "metadata": {
        "colab": {
          "base_uri": "https://localhost:8080/"
        },
        "id": "CcdIo0v_W0VN",
        "outputId": "a3365e00-ab05-48f1-bc41-dbd2e479d48e"
      },
      "execution_count": 81,
      "outputs": [
        {
          "output_type": "stream",
          "name": "stdout",
          "text": [
            "FN>0]gt3\n"
          ]
        }
      ]
    },
    {
      "cell_type": "code",
      "source": [],
      "metadata": {
        "id": "0wUOmgz2cTPu"
      },
      "execution_count": null,
      "outputs": []
    }
  ]
}